{
 "cells": [
  {
   "cell_type": "markdown",
   "id": "dbaf3527-69bc-4c9a-8138-f376d0b89365",
   "metadata": {
    "tags": []
   },
   "source": [
    "# Assignment 2\n",
    "\n",
    "This assignment serves as a comprehensive evaluation of your machine learning skills, encompassing not only the technical aspects of model development but also your ability to analyze, interpret, and present data insights effectively. As such, it's essential to ensure that your submission is complete, functional, and devoid of any obvious gaps, as if you were delivering this project to a client.\n",
    "\n",
    "To achieve this, leverage the full capabilities of Markdown and the interactive visualization tools available in Jupyter notebooks to craft a well-structured and visually appealing report of your findings. Your report should clearly communicate the insights you've gained from the exploratory data analysis, the rationale behind your data preprocessing and feature engineering decisions, and a thorough analysis of feature importance. High-quality visualizations and well-organized documentation will not only support your analysis but also make your results more accessible and understandable to your audience.\n",
    "\n",
    "Remember, the ability to present complex results in an intuitive and engaging manner is a crucial skill, almost as important as the technical proficiency in model building and data analysis. Treat this assignment as an opportunity to showcase your skills in both areas.\n",
    "\n",
    "## Instructions\n",
    "- Your submission should be a `.ipynb` file with your name,\n",
    "  like `FirstnameLastname.ipynb`. It should include the answers to the questions in markdown cells, your data analysis and results.\n",
    "- You are expected to follow the best practices for code writing and model\n",
    "training. Poor coding style will be penalized.\n",
    "- You are allowed to discuss ideas with your peers, but no sharing of code.\n",
    "Plagiarism in the code will result in failing. If you use code from the\n",
    "internet, cite it by adding the source of the code as a comment in the first line of the code cell. [Academic misconduct policy](https://wiki.innopolis.university/display/DOE/Academic+misconduct+policy)\n",
    "- In real life clients can give unclear goals or requirements. So, if the instructions seem vague, use common sense to make reasonable assumptions and decisions.\n",
    "\n",
    "## Self-Reliance and Exploration\n",
    "In this task, you're encouraged to rely on your resourcefulness and creativity. Dive into available resources, experiment with various solutions, and learn from every outcome. While our team is here to clarify task details and offer conceptual guidance, we encourage you to first seek answers independently. This approach is vital for developing your problem-solving skills in machine learning.\n",
    "\n"
   ]
  },
  {
   "cell_type": "markdown",
   "id": "7f7e3afb-5c53-4595-b8bd-d6c23989aa54",
   "metadata": {},
   "source": [
    "# Task 1: [Where's Waldo?](https://www.wikihow.com/Find-Waldo) (50%)\n",
    "\n",
    "## Fingerprinting\n",
    "Browser fingerprinting is a technique used to identify and track individuals based on unique characteristics of their web browser configuration. These characteristics can include the browser type, version, installed plugins, and screen resolution, among others. By combining these attributes, websites can create a digital fingerprint that can be used to track user behavior across multiple sites, even if they clear their cookies or use different devices. This has raised concerns about privacy and the potential for this technology to be used for targeted advertising, surveillance, and other purposes.\n",
    "\n",
    "[Read more about Fingerprinting](https://datadome.co/learning-center/browser-fingerprinting-techniques/)\n",
    "\n",
    "\n",
    "## What You Need to Do\n",
    "In this task, you are required to employ a fully connected feed-forward Artificial Neural Network (ANN) to tackle a classification problem. This involves several key steps, each critical to the development and performance of your model:\n",
    "\n",
    "- **Exploratory Data Analysis (EDA) (10%)**: Begin by conducting a thorough exploratory analysis of the provided dataset. Your goal here is to uncover patterns, anomalies, relationships, or trends that could influence your modeling decisions. **Share the insights** you gather from this process and explain how they informed your subsequent steps.\n",
    "  \n",
    "- **Data Preprocessing and Feature Engineering (10%)**: Based on your EDA insights, choose and implement the most appropriate data preprocessing steps and feature engineering techniques. This may include handling missing values, encoding categorical variables, normalizing data, and creating new features that could enhance your model's ability to learn from the data.\n",
    "  \n",
    "- **Model Design and Training (10%)**: Design a fully connected feed-forward ANN model. You will need to experiment with different architectures, layer configurations, and hyperparameters to find the most effective solution for the classification problem at hand.\n",
    "\n",
    "- **Feature Importance Analysis (10%)**: After developing your model, analyze which features are most important for making predictions. Discuss how this analysis aligns with your initial EDA insights and what it reveals about the characteristics most indicative of specific user behaviors or identities.\n",
    "\n",
    "- **Evaluation (10%)**: You will be required to submit your model prediction on a hidden data set.\n",
    "\n",
    "### Data\n",
    "You will be using the data in `Task_1.json` to identify Waldo (`user_id=0`). The dataset includes:\n",
    "- **\"browser\", \"os\" and \"locale\"**: Information about the software used.\n",
    "- **\"user_id\"**: A unique identifier for each user.\n",
    "- **\"location\"**: Geolocation based on the IP address used.\n",
    "- **\"sites\"**: A list of visited URLs and the time spent there in seconds.\n",
    "- **\"time\" and \"date\"**: When the session started in GMT.\n",
    "\n",
    "\n",
    "### Evaluation\n",
    "After training, evaluate your model by printing the classification report on your test set. Then, predict whether each user in `task_1_verify.json` is Waldo or not, by adding the boolean `is_waldo` property to the `task_1_verify.json`:\n",
    "\n",
    "```diff\n",
    "  [\n",
    "    {\n",
    "+     \"is_waldo\": false,\n",
    "      \"browser\": \"Chrome\",\n",
    "      \"os\": \"Debian\",\n",
    "      \"locale\": \"ur-PK\",\n",
    "      \"location\": \"Russia/Moscow\",\n",
    "      \"sites\": [\n",
    "          // ...\n",
    "      ],\n",
    "      \"time\": \"04:12:00\",\n",
    "      \"date\":\"2017-06-29\"\n",
    "    }\n",
    "    // ...\n",
    "  ]\n",
    "\n",
    "```\n",
    "\n",
    "## Learning Objectives\n",
    "\n",
    "- **Exploratory Data Analysis**: Apply suitable analysis techniques to gain insights and better understand the dataset.\n",
    "- **Classification Approach**: Identify the most appropriate method for the given problem.\n",
    "- **Data Preprocessing**: Select and execute proper preprocessing and encoding techniques.\n",
    "- **Model Implementation**: Utilize ANNs to address a classification problem, including training, validation, and testing phases.\n",
    "- **Feature Importance Analysis**: Determine and report which features are most critical for the model's predictions to uncover insights into specific user behaviors."
   ]
  },
  {
   "cell_type": "code",
   "execution_count": 246,
   "id": "0b7c5a10",
   "metadata": {},
   "outputs": [],
   "source": [
    "from sklearn.neural_network import MLPClassifier\n",
    "from sklearn.model_selection import train_test_split\n",
    "from sklearn.metrics import classification_report\n",
    "from sklearn.preprocessing import OneHotEncoder, StandardScaler\n",
    "import pandas as pd\n",
    "from sklearn.base import ClassifierMixin\n"
   ]
  },
  {
   "cell_type": "code",
   "execution_count": 255,
   "id": "3d3fbfb4-b60d-449d-83bd-b9b8d9e10f96",
   "metadata": {},
   "outputs": [
    {
     "name": "stdout",
     "output_type": "stream",
     "text": [
      "Index(['browser', 'os', 'locale', 'user_id', 'location', 'sites', 'time',\n",
      "       'date'],\n",
      "      dtype='object')\n",
      "First few rows of the dataset:\n",
      "   browser         os locale  user_id           location  \\\n",
      "0   Chrome     Debian  ur-PK      116      Russia/Moscow   \n",
      "1  Firefox  Windows 8  uk-UA      155       France/Paris   \n",
      "2   Safari      MacOS  fr-FR       39        Japan/Tokyo   \n",
      "3   Chrome  Windows 8  nl-NL      175   Australia/Sydney   \n",
      "4  Firefox     Ubuntu  ro-RO       50  USA/San Francisco   \n",
      "\n",
      "                                               sites      time       date  \n",
      "0  [{'site': 'bing.net', 'length': 52}, {'site': ...  04:12:00 2017-06-29  \n",
      "1  [{'site': 'yahoo.com', 'length': 46}, {'site':...  03:57:00 2016-03-23  \n",
      "2            [{'site': 'oracle.com', 'length': 335}]  05:26:00 2016-11-17  \n",
      "3  [{'site': 'mail.google.com', 'length': 192}, {...  00:05:00 2016-08-23  \n",
      "4  [{'site': 'mail.google.com', 'length': 266}, {...  22:55:00 2016-07-23  \n",
      "\n",
      "Data types and missing values:\n",
      "<class 'pandas.core.frame.DataFrame'>\n",
      "Index: 40000 entries, 0 to 39999\n",
      "Data columns (total 8 columns):\n",
      " #   Column    Non-Null Count  Dtype         \n",
      "---  ------    --------------  -----         \n",
      " 0   browser   40000 non-null  object        \n",
      " 1   os        40000 non-null  object        \n",
      " 2   locale    40000 non-null  object        \n",
      " 3   user_id   40000 non-null  int64         \n",
      " 4   location  40000 non-null  object        \n",
      " 5   sites     40000 non-null  object        \n",
      " 6   time      40000 non-null  object        \n",
      " 7   date      40000 non-null  datetime64[ns]\n",
      "dtypes: datetime64[ns](1), int64(1), object(6)\n",
      "memory usage: 2.7+ MB\n",
      "None\n",
      "\n",
      "Summary statistics for numerical features:\n",
      "            user_id                           date\n",
      "count  40000.000000                          40000\n",
      "mean      99.500000  2016-11-09 05:19:04.079999744\n",
      "min        0.000000            2016-01-14 00:00:00\n",
      "25%       49.750000            2016-06-12 00:00:00\n",
      "50%       99.500000            2016-11-09 00:00:00\n",
      "75%      149.250000            2017-04-09 00:00:00\n",
      "max      199.000000            2017-09-28 00:00:00\n",
      "std       57.735027                            NaN\n",
      "\n",
      "Unique values for categorical features:\n",
      "Browser: ['Chrome' 'Firefox' 'Safari' 'Internet Explorer']\n",
      "OS: ['Debian' 'Windows 8' 'MacOS' 'Ubuntu' 'Windows 10' 'Windows 7']\n",
      "Locale: ['ur-PK' 'uk-UA' 'fr-FR' 'nl-NL' 'ro-RO' 'en-US' 'en-NZ' 'vi-VN' 'pt-BR'\n",
      " 'es-MX' 'ja-JP' 'en-GB' 'en-SG' 'ru_RU' 'pt-PT' 'zh-CN' 'bg-BG' 'wo-SN'\n",
      " 'de-DE' 'pl-PL' 'it-IT' 'xh-ZA' 'ru-RU' 'en-AU' 'en-CA']\n",
      "Location: ['Russia/Moscow' 'France/Paris' 'Japan/Tokyo' 'Australia/Sydney'\n",
      " 'USA/San Francisco' 'Canada/Vancouver' 'UK/London' 'Canada/Toronto'\n",
      " 'Malaysia/Kuala Lumpur' 'USA/Miami' 'Italy/Rome' 'Spain/Madrid'\n",
      " 'USA/Chicago' 'Germany/Berlin' 'China/Shanghai' 'India/Delhi'\n",
      " 'Brazil/Rio de Janeiro' 'Singapore/Singapore' 'Netherlands/Amsterdam'\n",
      " 'USA/New York' 'New Zealand/Auckland']\n",
      "\n",
      "Distribution of target variable (user_id):\n",
      "user_id\n",
      "116    200\n",
      "82     200\n",
      "47     200\n",
      "127    200\n",
      "40     200\n",
      "      ... \n",
      "189    200\n",
      "142    200\n",
      "14     200\n",
      "20     200\n",
      "121    200\n",
      "Name: count, Length: 200, dtype: int64\n",
      "\n",
      "Patterns or anomalies:\n",
      "browser  os          location      \n",
      "Chrome   Ubuntu      USA/Chicago       25\n",
      "Firefox  Ubuntu      USA/Chicago       23\n",
      "Chrome   Windows 10  France/Paris      22\n",
      "Firefox  Windows 10  France/Paris      22\n",
      "Chrome   Ubuntu      France/Paris      20\n",
      "Firefox  Ubuntu      France/Paris      18\n",
      "         Windows 10  USA/Chicago       17\n",
      "Chrome   Ubuntu      Canada/Toronto    13\n",
      "Firefox  Ubuntu      Canada/Toronto    13\n",
      "Chrome   Windows 10  USA/Chicago       11\n",
      "dtype: int64\n"
     ]
    }
   ],
   "source": [
    "X_train = pd.read_json(\"task_1_train_data.json\")\n",
    "\n",
    "print(X_train.columns)\n",
    "print(\"First few rows of the dataset:\")\n",
    "print(X_train.head())\n",
    "\n",
    "print(\"\\nData types and missing values:\")\n",
    "print(X_train.info())\n",
    "\n",
    "print(\"\\nSummary statistics for numerical features:\")\n",
    "print(X_train.describe())\n",
    "\n",
    "print(\"\\nUnique values for categorical features:\")\n",
    "print(\"Browser:\", X_train[\"browser\"].unique())\n",
    "print(\"OS:\", X_train[\"os\"].unique())\n",
    "print(\"Locale:\", X_train[\"locale\"].unique())\n",
    "print(\"Location:\", X_train[\"location\"].unique())\n",
    "\n",
    "print(\"\\nDistribution of target variable (user_id):\")\n",
    "print(X_train[\"user_id\"].value_counts())\n",
    "\n",
    "print(\"\\nPatterns or anomalies:\")\n",
    "print(X_train[X_train[\"user_id\"] == 0].groupby([\"browser\", \"os\", \"location\"]).size().nlargest(10))"
   ]
  },
  {
   "cell_type": "code",
   "execution_count": 248,
   "id": "555dc1f4",
   "metadata": {},
   "outputs": [
    {
     "name": "stderr",
     "output_type": "stream",
     "text": [
      "C:\\Users\\Chulpan\\AppData\\Local\\Temp\\ipykernel_19880\\1524134111.py:6: UserWarning: Could not infer format, so each element will be parsed individually, falling back to `dateutil`. To ensure parsing is consistent and as-expected, please specify a format.\n",
      "  X_train[\"hour\"] = (pd.to_datetime(X_train[\"time\"]).dt.hour)\n",
      "C:\\Users\\Chulpan\\AppData\\Local\\Temp\\ipykernel_19880\\1524134111.py:7: UserWarning: Could not infer format, so each element will be parsed individually, falling back to `dateutil`. To ensure parsing is consistent and as-expected, please specify a format.\n",
      "  X_train[\"minute\"] = (pd.to_datetime(X_train[\"time\"]).dt.minute)\n",
      "C:\\Users\\Chulpan\\AppData\\Local\\Temp\\ipykernel_19880\\1524134111.py:8: UserWarning: Could not infer format, so each element will be parsed individually, falling back to `dateutil`. To ensure parsing is consistent and as-expected, please specify a format.\n",
      "  X_train[\"second\"] = (pd.to_datetime(X_train[\"time\"]).dt.second)\n"
     ]
    }
   ],
   "source": [
    "X_train.fillna({\"os\": \"Unknown\", \"locale\": \"Unknown\", \"location\": \"Unknown\"}, inplace=True)\n",
    "\n",
    "cat_columns = [\"browser\", \"os\", \"locale\", \"location\"]\n",
    "X_encoded = pd.get_dummies(X_train.drop(columns=[\"user_id\", \"sites\", \"time\", \"date\"]), columns=cat_columns)\n",
    "\n",
    "X_train[\"hour\"] = (pd.to_datetime(X_train[\"time\"]).dt.hour)\n",
    "X_train[\"minute\"] = (pd.to_datetime(X_train[\"time\"]).dt.minute)\n",
    "X_train[\"second\"] = (pd.to_datetime(X_train[\"time\"]).dt.second)\n",
    "X_train = X_train.drop(['time'], axis=1)\n",
    "X = pd.concat([X_encoded, X_train[[\"hour\", \"minute\", \"second\"]]], axis=1)\n",
    "y = X_train[\"user_id\"] == 0\n",
    "\n",
    "# Split the data into train and test sets\n",
    "X_train, X_test, y_train, y_test = train_test_split(X, y, test_size=0.2, random_state=42)\n",
    "# print(data.columns)\n",
    "\n",
    "scaler = StandardScaler()\n",
    "X_train[[\"hour\", \"minute\", \"second\"]] = scaler.fit_transform(X_train[[\"hour\", \"minute\", \"second\"]])\n",
    "X_test[[\"hour\", \"minute\", \"second\"]] = scaler.transform(X_test[[\"hour\", \"minute\", \"second\"]])\n",
    "# print(data.columns)\n",
    "\n",
    "# Train the model\n",
    "# model = MLPClassifier(hidden_layer_sizes=(100, 50), max_iter=500)\n",
    "# model.fit(X_train, y_train)\n",
    "\n",
    "# # Evaluate the model\n",
    "# y_pred = model.predict(X_test)\n",
    "# print(\"Classification Report:\")\n",
    "# print(classification_report(y_test, y_pred))\n"
   ]
  },
  {
   "cell_type": "code",
   "execution_count": 249,
   "id": "19524ff5",
   "metadata": {},
   "outputs": [
    {
     "name": "stderr",
     "output_type": "stream",
     "text": [
      "c:\\Users\\Chulpan\\AppData\\Local\\Programs\\Python\\Python312\\Lib\\site-packages\\keras\\src\\layers\\core\\dense.py:88: UserWarning: Do not pass an `input_shape`/`input_dim` argument to a layer. When using Sequential models, prefer using an `Input(shape)` object as the first layer in the model instead.\n",
      "  super().__init__(activity_regularizer=activity_regularizer, **kwargs)\n"
     ]
    },
    {
     "data": {
      "text/html": [
       "<pre style=\"white-space:pre;overflow-x:auto;line-height:normal;font-family:Menlo,'DejaVu Sans Mono',consolas,'Courier New',monospace\"><span style=\"font-weight: bold\">Model: \"sequential_14\"</span>\n",
       "</pre>\n"
      ],
      "text/plain": [
       "\u001b[1mModel: \"sequential_14\"\u001b[0m\n"
      ]
     },
     "metadata": {},
     "output_type": "display_data"
    },
    {
     "data": {
      "text/html": [
       "<pre style=\"white-space:pre;overflow-x:auto;line-height:normal;font-family:Menlo,'DejaVu Sans Mono',consolas,'Courier New',monospace\">┏━━━━━━━━━━━━━━━━━━━━━━━━━━━━━━━━━┳━━━━━━━━━━━━━━━━━━━━━━━━┳━━━━━━━━━━━━━━━┓\n",
       "┃<span style=\"font-weight: bold\"> Layer (type)                    </span>┃<span style=\"font-weight: bold\"> Output Shape           </span>┃<span style=\"font-weight: bold\">       Param # </span>┃\n",
       "┡━━━━━━━━━━━━━━━━━━━━━━━━━━━━━━━━━╇━━━━━━━━━━━━━━━━━━━━━━━━╇━━━━━━━━━━━━━━━┩\n",
       "│ dense_42 (<span style=\"color: #0087ff; text-decoration-color: #0087ff\">Dense</span>)                │ (<span style=\"color: #00d7ff; text-decoration-color: #00d7ff\">None</span>, <span style=\"color: #00af00; text-decoration-color: #00af00\">100</span>)            │         <span style=\"color: #00af00; text-decoration-color: #00af00\">6,000</span> │\n",
       "├─────────────────────────────────┼────────────────────────┼───────────────┤\n",
       "│ dense_43 (<span style=\"color: #0087ff; text-decoration-color: #0087ff\">Dense</span>)                │ (<span style=\"color: #00d7ff; text-decoration-color: #00d7ff\">None</span>, <span style=\"color: #00af00; text-decoration-color: #00af00\">50</span>)             │         <span style=\"color: #00af00; text-decoration-color: #00af00\">5,050</span> │\n",
       "├─────────────────────────────────┼────────────────────────┼───────────────┤\n",
       "│ dense_44 (<span style=\"color: #0087ff; text-decoration-color: #0087ff\">Dense</span>)                │ (<span style=\"color: #00d7ff; text-decoration-color: #00d7ff\">None</span>, <span style=\"color: #00af00; text-decoration-color: #00af00\">1</span>)              │            <span style=\"color: #00af00; text-decoration-color: #00af00\">51</span> │\n",
       "└─────────────────────────────────┴────────────────────────┴───────────────┘\n",
       "</pre>\n"
      ],
      "text/plain": [
       "┏━━━━━━━━━━━━━━━━━━━━━━━━━━━━━━━━━┳━━━━━━━━━━━━━━━━━━━━━━━━┳━━━━━━━━━━━━━━━┓\n",
       "┃\u001b[1m \u001b[0m\u001b[1mLayer (type)                   \u001b[0m\u001b[1m \u001b[0m┃\u001b[1m \u001b[0m\u001b[1mOutput Shape          \u001b[0m\u001b[1m \u001b[0m┃\u001b[1m \u001b[0m\u001b[1m      Param #\u001b[0m\u001b[1m \u001b[0m┃\n",
       "┡━━━━━━━━━━━━━━━━━━━━━━━━━━━━━━━━━╇━━━━━━━━━━━━━━━━━━━━━━━━╇━━━━━━━━━━━━━━━┩\n",
       "│ dense_42 (\u001b[38;5;33mDense\u001b[0m)                │ (\u001b[38;5;45mNone\u001b[0m, \u001b[38;5;34m100\u001b[0m)            │         \u001b[38;5;34m6,000\u001b[0m │\n",
       "├─────────────────────────────────┼────────────────────────┼───────────────┤\n",
       "│ dense_43 (\u001b[38;5;33mDense\u001b[0m)                │ (\u001b[38;5;45mNone\u001b[0m, \u001b[38;5;34m50\u001b[0m)             │         \u001b[38;5;34m5,050\u001b[0m │\n",
       "├─────────────────────────────────┼────────────────────────┼───────────────┤\n",
       "│ dense_44 (\u001b[38;5;33mDense\u001b[0m)                │ (\u001b[38;5;45mNone\u001b[0m, \u001b[38;5;34m1\u001b[0m)              │            \u001b[38;5;34m51\u001b[0m │\n",
       "└─────────────────────────────────┴────────────────────────┴───────────────┘\n"
      ]
     },
     "metadata": {},
     "output_type": "display_data"
    },
    {
     "data": {
      "text/html": [
       "<pre style=\"white-space:pre;overflow-x:auto;line-height:normal;font-family:Menlo,'DejaVu Sans Mono',consolas,'Courier New',monospace\"><span style=\"font-weight: bold\"> Total params: </span><span style=\"color: #00af00; text-decoration-color: #00af00\">11,101</span> (43.36 KB)\n",
       "</pre>\n"
      ],
      "text/plain": [
       "\u001b[1m Total params: \u001b[0m\u001b[38;5;34m11,101\u001b[0m (43.36 KB)\n"
      ]
     },
     "metadata": {},
     "output_type": "display_data"
    },
    {
     "data": {
      "text/html": [
       "<pre style=\"white-space:pre;overflow-x:auto;line-height:normal;font-family:Menlo,'DejaVu Sans Mono',consolas,'Courier New',monospace\"><span style=\"font-weight: bold\"> Trainable params: </span><span style=\"color: #00af00; text-decoration-color: #00af00\">11,101</span> (43.36 KB)\n",
       "</pre>\n"
      ],
      "text/plain": [
       "\u001b[1m Trainable params: \u001b[0m\u001b[38;5;34m11,101\u001b[0m (43.36 KB)\n"
      ]
     },
     "metadata": {},
     "output_type": "display_data"
    },
    {
     "data": {
      "text/html": [
       "<pre style=\"white-space:pre;overflow-x:auto;line-height:normal;font-family:Menlo,'DejaVu Sans Mono',consolas,'Courier New',monospace\"><span style=\"font-weight: bold\"> Non-trainable params: </span><span style=\"color: #00af00; text-decoration-color: #00af00\">0</span> (0.00 B)\n",
       "</pre>\n"
      ],
      "text/plain": [
       "\u001b[1m Non-trainable params: \u001b[0m\u001b[38;5;34m0\u001b[0m (0.00 B)\n"
      ]
     },
     "metadata": {},
     "output_type": "display_data"
    }
   ],
   "source": [
    "import tensorflow as tf\n",
    "\n",
    "# Define the architecture\n",
    "model = tf.keras.Sequential([\n",
    "    tf.keras.layers.Dense(100, activation='relu', input_shape=(len(X_train.columns),)),\n",
    "    tf.keras.layers.Dense(50, activation='relu'),\n",
    "    tf.keras.layers.Dense(1, activation='sigmoid')  # Binary classification\n",
    "])\n",
    "\n",
    "# Compile the model\n",
    "model.compile(optimizer='adam',\n",
    "              loss='binary_crossentropy',\n",
    "              metrics=['accuracy'])\n",
    "\n",
    "# Print the model summary\n",
    "model.summary()\n"
   ]
  },
  {
   "cell_type": "code",
   "execution_count": 250,
   "id": "d0070ffe",
   "metadata": {},
   "outputs": [
    {
     "name": "stdout",
     "output_type": "stream",
     "text": [
      "Epoch 1/10\n",
      "\u001b[1m800/800\u001b[0m \u001b[32m━━━━━━━━━━━━━━━━━━━━\u001b[0m\u001b[37m\u001b[0m \u001b[1m3s\u001b[0m 3ms/step - accuracy: 0.9944 - loss: 0.0618 - val_accuracy: 0.9959 - val_loss: 0.0123\n",
      "Epoch 2/10\n",
      "\u001b[1m800/800\u001b[0m \u001b[32m━━━━━━━━━━━━━━━━━━━━\u001b[0m\u001b[37m\u001b[0m \u001b[1m1s\u001b[0m 1ms/step - accuracy: 0.9948 - loss: 0.0152 - val_accuracy: 0.9966 - val_loss: 0.0132\n",
      "Epoch 3/10\n",
      "\u001b[1m800/800\u001b[0m \u001b[32m━━━━━━━━━━━━━━━━━━━━\u001b[0m\u001b[37m\u001b[0m \u001b[1m1s\u001b[0m 1ms/step - accuracy: 0.9956 - loss: 0.0135 - val_accuracy: 0.9969 - val_loss: 0.0108\n",
      "Epoch 4/10\n",
      "\u001b[1m800/800\u001b[0m \u001b[32m━━━━━━━━━━━━━━━━━━━━\u001b[0m\u001b[37m\u001b[0m \u001b[1m1s\u001b[0m 1ms/step - accuracy: 0.9960 - loss: 0.0128 - val_accuracy: 0.9967 - val_loss: 0.0107\n",
      "Epoch 5/10\n",
      "\u001b[1m800/800\u001b[0m \u001b[32m━━━━━━━━━━━━━━━━━━━━\u001b[0m\u001b[37m\u001b[0m \u001b[1m1s\u001b[0m 1ms/step - accuracy: 0.9953 - loss: 0.0134 - val_accuracy: 0.9964 - val_loss: 0.0108\n",
      "Epoch 6/10\n",
      "\u001b[1m800/800\u001b[0m \u001b[32m━━━━━━━━━━━━━━━━━━━━\u001b[0m\u001b[37m\u001b[0m \u001b[1m1s\u001b[0m 1ms/step - accuracy: 0.9959 - loss: 0.0123 - val_accuracy: 0.9967 - val_loss: 0.0101\n",
      "Epoch 7/10\n",
      "\u001b[1m800/800\u001b[0m \u001b[32m━━━━━━━━━━━━━━━━━━━━\u001b[0m\u001b[37m\u001b[0m \u001b[1m1s\u001b[0m 1ms/step - accuracy: 0.9945 - loss: 0.0143 - val_accuracy: 0.9969 - val_loss: 0.0098\n",
      "Epoch 8/10\n",
      "\u001b[1m800/800\u001b[0m \u001b[32m━━━━━━━━━━━━━━━━━━━━\u001b[0m\u001b[37m\u001b[0m \u001b[1m1s\u001b[0m 1ms/step - accuracy: 0.9958 - loss: 0.0121 - val_accuracy: 0.9969 - val_loss: 0.0099\n",
      "Epoch 9/10\n",
      "\u001b[1m800/800\u001b[0m \u001b[32m━━━━━━━━━━━━━━━━━━━━\u001b[0m\u001b[37m\u001b[0m \u001b[1m1s\u001b[0m 1ms/step - accuracy: 0.9953 - loss: 0.0121 - val_accuracy: 0.9969 - val_loss: 0.0094\n",
      "Epoch 10/10\n",
      "\u001b[1m800/800\u001b[0m \u001b[32m━━━━━━━━━━━━━━━━━━━━\u001b[0m\u001b[37m\u001b[0m \u001b[1m1s\u001b[0m 1ms/step - accuracy: 0.9955 - loss: 0.0123 - val_accuracy: 0.9969 - val_loss: 0.0095\n"
     ]
    },
    {
     "data": {
      "image/png": "[encoded data removed]",
      "text/plain": [
       "<Figure size 1200x600 with 2 Axes>"
      ]
     },
     "metadata": {},
     "output_type": "display_data"
    }
   ],
   "source": [
    "import matplotlib.pyplot as plt\n",
    "\n",
    "# Train the model\n",
    "hist = model.fit(X_train, y_train, epochs=10, batch_size=32, validation_split=0.2)\n",
    "\n",
    "# Plot training history\n",
    "def plot_history(history):\n",
    "    plt.figure(figsize=(12, 6))\n",
    "\n",
    "    # Plot training & validation loss values\n",
    "    plt.subplot(1, 2, 1)\n",
    "    plt.plot(history.history['loss'], label='Training Loss')\n",
    "    plt.plot(history.history['val_loss'], label='Validation Loss')\n",
    "    plt.title('Model loss')\n",
    "    plt.xlabel('Epoch')\n",
    "    plt.ylabel('Loss')\n",
    "    plt.legend()\n",
    "\n",
    "    # Plot training & validation accuracy values\n",
    "    plt.subplot(1, 2, 2)\n",
    "    plt.plot(history.history['accuracy'], label='Training Accuracy')\n",
    "    plt.plot(history.history['val_accuracy'], label='Validation Accuracy')\n",
    "    plt.title('Model accuracy')\n",
    "    plt.xlabel('Epoch')\n",
    "    plt.ylabel('Accuracy')\n",
    "    plt.legend()\n",
    "\n",
    "    plt.show()\n",
    "\n",
    "plot_history(hist)\n"
   ]
  },
  {
   "cell_type": "code",
   "execution_count": 236,
   "id": "9edb2b97",
   "metadata": {},
   "outputs": [],
   "source": [
    "import seaborn as sns"
   ]
  },
  {
   "cell_type": "code",
   "execution_count": 237,
   "id": "1ba7e505",
   "metadata": {},
   "outputs": [
    {
     "name": "stdout",
     "output_type": "stream",
     "text": [
      "\u001b[1m250/250\u001b[0m \u001b[32m━━━━━━━━━━━━━━━━━━━━\u001b[0m\u001b[37m\u001b[0m \u001b[1m1s\u001b[0m 3ms/step\n",
      "Classification Report:\n",
      "              precision    recall  f1-score   support\n",
      "\n",
      "       False       1.00      1.00      1.00      7964\n",
      "        True       0.73      0.44      0.55        36\n",
      "\n",
      "    accuracy                           1.00      8000\n",
      "   macro avg       0.86      0.72      0.78      8000\n",
      "weighted avg       1.00      1.00      1.00      8000\n",
      "\n"
     ]
    },
    {
     "data": {
      "image/png": "[encoded data removed]",
      "text/plain": [
       "<Figure size 800x600 with 1 Axes>"
      ]
     },
     "metadata": {},
     "output_type": "display_data"
    }
   ],
   "source": [
    "from sklearn.metrics import classification_report, confusion_matrix\n",
    "\n",
    "# Predict on the test set\n",
    "y_pred = model.predict(X_test)\n",
    "y_pred = (y_pred > 0.5)  # Convert probabilities to binary predictions\n",
    "\n",
    "# Print classification report\n",
    "print(\"Classification Report:\")\n",
    "print(classification_report(y_test, y_pred))\n",
    "\n",
    "# Plot confusion matrix\n",
    "def plot_confusion_matrix(y_true, y_pred):\n",
    "    cm = confusion_matrix(y_true, y_pred)\n",
    "    plt.figure(figsize=(8, 6))\n",
    "    sns.heatmap(cm, annot=True, cmap=\"Blues\", fmt=\"d\", cbar=False)\n",
    "    plt.xlabel('Predicted labels')\n",
    "    plt.ylabel('True labels')\n",
    "    plt.title('Confusion Matrix')\n",
    "    plt.show()\n",
    "\n",
    "plot_confusion_matrix(y_test, y_pred)\n"
   ]
  },
  {
   "cell_type": "code",
   "execution_count": 256,
   "id": "a4463099",
   "metadata": {},
   "outputs": [
    {
     "name": "stdout",
     "output_type": "stream",
     "text": [
      "Index(['browser', 'os', 'locale', 'location', 'sites', 'time', 'date'], dtype='object')\n"
     ]
    },
    {
     "name": "stderr",
     "output_type": "stream",
     "text": [
      "C:\\Users\\Chulpan\\AppData\\Local\\Temp\\ipykernel_19880\\2823025995.py:23: UserWarning: Could not infer format, so each element will be parsed individually, falling back to `dateutil`. To ensure parsing is consistent and as-expected, please specify a format.\n",
      "  verify_df[\"hour\"] = (pd.to_datetime(verify_df[\"time\"]).dt.hour)\n",
      "C:\\Users\\Chulpan\\AppData\\Local\\Temp\\ipykernel_19880\\2823025995.py:24: UserWarning: Could not infer format, so each element will be parsed individually, falling back to `dateutil`. To ensure parsing is consistent and as-expected, please specify a format.\n",
      "  verify_df[\"minute\"] = (pd.to_datetime(verify_df[\"time\"]).dt.minute)\n",
      "C:\\Users\\Chulpan\\AppData\\Local\\Temp\\ipykernel_19880\\2823025995.py:25: UserWarning: Could not infer format, so each element will be parsed individually, falling back to `dateutil`. To ensure parsing is consistent and as-expected, please specify a format.\n",
      "  verify_df[\"second\"] = (pd.to_datetime(verify_df[\"time\"]).dt.second)\n"
     ]
    },
    {
     "name": "stdout",
     "output_type": "stream",
     "text": [
      "\u001b[1m125/125\u001b[0m \u001b[32m━━━━━━━━━━━━━━━━━━━━\u001b[0m\u001b[37m\u001b[0m \u001b[1m0s\u001b[0m 2ms/step - accuracy: 0.9956 - loss: 0.0819\n"
     ]
    },
    {
     "ename": "ValueError",
     "evalue": "Failed to convert a NumPy array to a Tensor (Unsupported object type list).",
     "output_type": "error",
     "traceback": [
      "\u001b[1;31m---------------------------------------------------------------------------\u001b[0m",
      "\u001b[1;31mValueError\u001b[0m                                Traceback (most recent call last)",
      "Cell \u001b[1;32mIn[256], line 40\u001b[0m\n\u001b[0;32m     37\u001b[0m model\u001b[38;5;241m.\u001b[39mfit(X_train, y_train)\n\u001b[0;32m     38\u001b[0m \u001b[38;5;66;03m# a = model.predict(verify_df)\u001b[39;00m\n\u001b[0;32m     39\u001b[0m \u001b[38;5;66;03m# print(verify_df.columns)\u001b[39;00m\n\u001b[1;32m---> 40\u001b[0m is_waldo \u001b[38;5;241m=\u001b[39m (\u001b[43mmodel\u001b[49m\u001b[38;5;241;43m.\u001b[39;49m\u001b[43mpredict\u001b[49m\u001b[43m(\u001b[49m\u001b[43mverify_df\u001b[49m\u001b[43m)\u001b[49m \u001b[38;5;241m>\u001b[39m \u001b[38;5;241m0.5\u001b[39m)\u001b[38;5;241m.\u001b[39mastype(\u001b[38;5;28mint\u001b[39m)\n\u001b[0;32m     42\u001b[0m \u001b[38;5;66;03m# verify_df['is_waldo'] = is_waldo\u001b[39;00m\n\u001b[0;32m     43\u001b[0m \n\u001b[0;32m     44\u001b[0m \u001b[38;5;66;03m# verify_df.to_json('task_1_verify_predicted.json', orient='records', indent=2)\u001b[39;00m\n",
      "File \u001b[1;32mc:\\Users\\Chulpan\\AppData\\Local\\Programs\\Python\\Python312\\Lib\\site-packages\\keras\\src\\utils\\traceback_utils.py:122\u001b[0m, in \u001b[0;36mfilter_traceback.<locals>.error_handler\u001b[1;34m(*args, **kwargs)\u001b[0m\n\u001b[0;32m    119\u001b[0m     filtered_tb \u001b[38;5;241m=\u001b[39m _process_traceback_frames(e\u001b[38;5;241m.\u001b[39m__traceback__)\n\u001b[0;32m    120\u001b[0m     \u001b[38;5;66;03m# To get the full stack trace, call:\u001b[39;00m\n\u001b[0;32m    121\u001b[0m     \u001b[38;5;66;03m# `keras.config.disable_traceback_filtering()`\u001b[39;00m\n\u001b[1;32m--> 122\u001b[0m     \u001b[38;5;28;01mraise\u001b[39;00m e\u001b[38;5;241m.\u001b[39mwith_traceback(filtered_tb) \u001b[38;5;28;01mfrom\u001b[39;00m \u001b[38;5;28;01mNone\u001b[39;00m\n\u001b[0;32m    123\u001b[0m \u001b[38;5;28;01mfinally\u001b[39;00m:\n\u001b[0;32m    124\u001b[0m     \u001b[38;5;28;01mdel\u001b[39;00m filtered_tb\n",
      "File \u001b[1;32mc:\\Users\\Chulpan\\AppData\\Local\\Programs\\Python\\Python312\\Lib\\site-packages\\tensorflow\\python\\framework\\constant_op.py:108\u001b[0m, in \u001b[0;36mconvert_to_eager_tensor\u001b[1;34m(value, ctx, dtype)\u001b[0m\n\u001b[0;32m    106\u001b[0m     dtype \u001b[38;5;241m=\u001b[39m dtypes\u001b[38;5;241m.\u001b[39mas_dtype(dtype)\u001b[38;5;241m.\u001b[39mas_datatype_enum\n\u001b[0;32m    107\u001b[0m ctx\u001b[38;5;241m.\u001b[39mensure_initialized()\n\u001b[1;32m--> 108\u001b[0m \u001b[38;5;28;01mreturn\u001b[39;00m \u001b[43mops\u001b[49m\u001b[38;5;241;43m.\u001b[39;49m\u001b[43mEagerTensor\u001b[49m\u001b[43m(\u001b[49m\u001b[43mvalue\u001b[49m\u001b[43m,\u001b[49m\u001b[43m \u001b[49m\u001b[43mctx\u001b[49m\u001b[38;5;241;43m.\u001b[39;49m\u001b[43mdevice_name\u001b[49m\u001b[43m,\u001b[49m\u001b[43m \u001b[49m\u001b[43mdtype\u001b[49m\u001b[43m)\u001b[49m\n",
      "\u001b[1;31mValueError\u001b[0m: Failed to convert a NumPy array to a Tensor (Unsupported object type list)."
     ]
    }
   ],
   "source": [
    "import json \n",
    "import pandas as pd\n",
    "\n",
    "with open('task_1_verify.json', 'r') as file:\n",
    "    task_1_verify = json.load(file)\n",
    "\n",
    "verify_df = pd.DataFrame(task_1_verify)\n",
    "\n",
    "print(verify_df.columns)\n",
    "# verify_df[\"hour\"] = (pd.to_datetime(verify_df[\"time\"]).dt.hour)\n",
    "# verify_df[\"minute\"] = (pd.to_datetime(verify_df[\"time\"]).dt.minute)\n",
    "# verify_df[\"second\"] = (pd.to_datetime(verify_df[\"time\"]).dt.second)\n",
    "# verify_df = verify_df.drop(columns=[\"sites\", \"time\", \"date\"])\n",
    "# verify_df = pd.concat([verify_df, verify_df[[\"hour\", \"minute\", \"second\"]]], axis=1)\n",
    "\n",
    "\n",
    "\n",
    "verify_df.fillna({\"os\": \"Unknown\", \"locale\": \"Unknown\", \"location\": \"Unknown\"}, inplace=True)\n",
    "\n",
    "cat_columns = [\"browser\", \"os\", \"locale\", \"location\"]\n",
    "X_encoded = pd.get_dummies(verify_df.drop(columns=[\"sites\", \"time\", \"date\"]), columns=cat_columns)\n",
    "\n",
    "verify_df[\"hour\"] = (pd.to_datetime(verify_df[\"time\"]).dt.hour)\n",
    "verify_df[\"minute\"] = (pd.to_datetime(verify_df[\"time\"]).dt.minute)\n",
    "verify_df[\"second\"] = (pd.to_datetime(verify_df[\"time\"]).dt.second)\n",
    "verify_df = verify_df.drop(['time'], axis=1)\n",
    "X = pd.concat([X_encoded, verify_df[[\"hour\", \"minute\", \"second\"]]], axis=1)\n",
    "y = X_train[\"user_id\"] == 0\n",
    "\n",
    "# Split the data into train and test sets\n",
    "X_train, X_test, y_train, y_test = train_test_split(X, y, test_size=0.9, random_state=42)\n",
    "# print(data.columns)\n",
    "\n",
    "scaler = StandardScaler()\n",
    "X_train[[\"hour\", \"minute\", \"second\"]] = scaler.fit_transform(X_train[[\"hour\", \"minute\", \"second\"]])\n",
    "X_test[[\"hour\", \"minute\", \"second\"]] = scaler.transform(X_test[[\"hour\", \"minute\", \"second\"]])\n",
    "model.fit(X_train, y_train)\n",
    "# a = model.predict(verify_df)\n",
    "# print(verify_df.columns)\n",
    "is_waldo = (model.predict(verify_df) > 0.5).astype(int)\n",
    "\n",
    "# verify_df['is_waldo'] = is_waldo\n",
    "\n",
    "# verify_df.to_json('task_1_verify_predicted.json', orient='records', indent=2)\n",
    "\n"
   ]
  }
 ],
 "metadata": {
  "kernelspec": {
   "display_name": "Python 3 (ipykernel)",
   "language": "python",
   "name": "python3"
  },
  "language_info": {
   "codemirror_mode": {
    "name": "ipython",
    "version": 3
   },
   "file_extension": ".py",
   "mimetype": "text/x-python",
   "name": "python",
   "nbconvert_exporter": "python",
   "pygments_lexer": "ipython3",
   "version": "3.12.0"
  }
 },
 "nbformat": 4,
 "nbformat_minor": 5
}
